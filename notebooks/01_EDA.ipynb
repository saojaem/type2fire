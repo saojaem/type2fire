{
 "cells": [
  {
   "cell_type": "code",
   "execution_count": 25,
   "id": "9050ca04-9e9b-4b5e-9002-35c2f0d6430c",
   "metadata": {},
   "outputs": [],
   "source": [
    "import geopandas as gpd"
   ]
  },
  {
   "cell_type": "code",
   "execution_count": 26,
   "id": "85795e1d-524b-4789-afd9-c3088319035a",
   "metadata": {},
   "outputs": [],
   "source": [
    "# 서울 특별시 임상도 파일 불러오기\n",
    "gdf = gpd.read_file(\"../data/raw/임상도_서울특별시/11.shp\")"
   ]
  },
  {
   "cell_type": "code",
   "execution_count": 27,
   "id": "c608fe68-ad48-48be-86e6-48873f391c05",
   "metadata": {},
   "outputs": [
    {
     "data": {
      "text/plain": [
       "<Projected CRS: ESRI:102080>\n",
       "Name: KGD2002_Unified_Coordinate_System\n",
       "Axis Info [cartesian]:\n",
       "- [east]: Easting (metre)\n",
       "- [north]: Northing (metre)\n",
       "Area of Use:\n",
       "- undefined\n",
       "Coordinate Operation:\n",
       "- name: unnamed\n",
       "- method: Transverse Mercator\n",
       "Datum: Korean Geodetic Datum 2002\n",
       "- Ellipsoid: GRS 1980\n",
       "- Prime Meridian: Greenwich"
      ]
     },
     "execution_count": 27,
     "metadata": {},
     "output_type": "execute_result"
    }
   ],
   "source": [
    "gdf.crs"
   ]
  },
  {
   "cell_type": "code",
   "execution_count": 28,
   "id": "a610126b-3739-4dc2-bf8e-b63506799062",
   "metadata": {},
   "outputs": [
    {
     "name": "stdout",
     "output_type": "stream",
     "text": [
      "Coordinate Reference System Converted\n"
     ]
    }
   ],
   "source": [
    "#좌표계 확인 및 변환 (EPSG:5179은 UTM-K 기준), GeoPandas에서의 분석을 위해 변환\n",
    "if gdf.crs != \"epsg:5179\":\n",
    "    gdf = gdf.to_crs(epsg=5179)\n",
    "    print(\"Coordinate Reference System Converted\")"
   ]
  },
  {
   "cell_type": "code",
   "execution_count": 29,
   "id": "45804000-00e4-4112-9158-8e5c3261717e",
   "metadata": {},
   "outputs": [
    {
     "data": {
      "text/plain": [
       "<Projected CRS: EPSG:5179>\n",
       "Name: KGD2002 / Unified CS\n",
       "Axis Info [cartesian]:\n",
       "- X[north]: Northing (metre)\n",
       "- Y[east]: Easting (metre)\n",
       "Area of Use:\n",
       "- name: Republic of Korea (South Korea) - onshore and offshore.\n",
       "- bounds: (122.71, 28.6, 134.28, 40.27)\n",
       "Coordinate Operation:\n",
       "- name: Korea Unified Belt\n",
       "- method: Transverse Mercator\n",
       "Datum: Korean Geodetic Datum 2002\n",
       "- Ellipsoid: GRS 1980\n",
       "- Prime Meridian: Greenwich"
      ]
     },
     "execution_count": 29,
     "metadata": {},
     "output_type": "execute_result"
    }
   ],
   "source": [
    "gdf.crs"
   ]
  },
  {
   "cell_type": "code",
   "execution_count": 31,
   "id": "13d96e8d-a922-4d00-b536-9c33fa720302",
   "metadata": {},
   "outputs": [
    {
     "data": {
      "text/html": [
       "<div>\n",
       "<style scoped>\n",
       "    .dataframe tbody tr th:only-of-type {\n",
       "        vertical-align: middle;\n",
       "    }\n",
       "\n",
       "    .dataframe tbody tr th {\n",
       "        vertical-align: top;\n",
       "    }\n",
       "\n",
       "    .dataframe thead th {\n",
       "        text-align: right;\n",
       "    }\n",
       "</style>\n",
       "<table border=\"1\" class=\"dataframe\">\n",
       "  <thead>\n",
       "    <tr style=\"text-align: right;\">\n",
       "      <th></th>\n",
       "      <th>STORUNST</th>\n",
       "      <th>FROR_CD</th>\n",
       "      <th>FRTP_CD</th>\n",
       "      <th>KOFTR_GROU</th>\n",
       "      <th>DMCLS_CD</th>\n",
       "      <th>AGCLS_CD</th>\n",
       "      <th>DNST_CD</th>\n",
       "      <th>HEIGHT</th>\n",
       "      <th>LDMARK_STN</th>\n",
       "      <th>MAP_LABEL</th>\n",
       "      <th>...</th>\n",
       "      <th>ETC_PCMTT</th>\n",
       "      <th>FRTP_NM</th>\n",
       "      <th>KOFTR_NM</th>\n",
       "      <th>DMCLS_NM</th>\n",
       "      <th>AGCLS_NM</th>\n",
       "      <th>DNST_NM</th>\n",
       "      <th>HEIGHT_NM</th>\n",
       "      <th>Shape_Leng</th>\n",
       "      <th>Shape_Area</th>\n",
       "      <th>geometry</th>\n",
       "    </tr>\n",
       "  </thead>\n",
       "  <tbody>\n",
       "    <tr>\n",
       "      <th>0</th>\n",
       "      <td>0</td>\n",
       "      <td>0</td>\n",
       "      <td>0</td>\n",
       "      <td>93</td>\n",
       "      <td>None</td>\n",
       "      <td>None</td>\n",
       "      <td>None</td>\n",
       "      <td>None</td>\n",
       "      <td>J00093</td>\n",
       "      <td>C</td>\n",
       "      <td>...</td>\n",
       "      <td>None</td>\n",
       "      <td>무립목지/비산림</td>\n",
       "      <td>경작지</td>\n",
       "      <td>None</td>\n",
       "      <td>None</td>\n",
       "      <td>None</td>\n",
       "      <td>None</td>\n",
       "      <td>194.705027</td>\n",
       "      <td>1847.918451</td>\n",
       "      <td>POLYGON ((940406.869 1943144.09, 940402.484 19...</td>\n",
       "    </tr>\n",
       "    <tr>\n",
       "      <th>1</th>\n",
       "      <td>0</td>\n",
       "      <td>0</td>\n",
       "      <td>0</td>\n",
       "      <td>93</td>\n",
       "      <td>None</td>\n",
       "      <td>None</td>\n",
       "      <td>None</td>\n",
       "      <td>None</td>\n",
       "      <td>J00093</td>\n",
       "      <td>C</td>\n",
       "      <td>...</td>\n",
       "      <td>None</td>\n",
       "      <td>무립목지/비산림</td>\n",
       "      <td>경작지</td>\n",
       "      <td>None</td>\n",
       "      <td>None</td>\n",
       "      <td>None</td>\n",
       "      <td>None</td>\n",
       "      <td>570.219024</td>\n",
       "      <td>12748.592620</td>\n",
       "      <td>POLYGON ((941247.331 1942388.402, 941247.768 1...</td>\n",
       "    </tr>\n",
       "    <tr>\n",
       "      <th>2</th>\n",
       "      <td>1</td>\n",
       "      <td>1</td>\n",
       "      <td>1</td>\n",
       "      <td>12</td>\n",
       "      <td>1</td>\n",
       "      <td>3</td>\n",
       "      <td>C</td>\n",
       "      <td>08</td>\n",
       "      <td>J11112</td>\n",
       "      <td>APK-13C</td>\n",
       "      <td>...</td>\n",
       "      <td>None</td>\n",
       "      <td>침엽수림</td>\n",
       "      <td>잣나무</td>\n",
       "      <td>소경목</td>\n",
       "      <td>3영급</td>\n",
       "      <td>밀</td>\n",
       "      <td>임분고 7m 이상 9m미만</td>\n",
       "      <td>248.713445</td>\n",
       "      <td>2053.461999</td>\n",
       "      <td>POLYGON ((940653.223 1942760.494, 940653.815 1...</td>\n",
       "    </tr>\n",
       "  </tbody>\n",
       "</table>\n",
       "<p>3 rows × 21 columns</p>\n",
       "</div>"
      ],
      "text/plain": [
       "  STORUNST FROR_CD FRTP_CD KOFTR_GROU DMCLS_CD AGCLS_CD DNST_CD HEIGHT  \\\n",
       "0        0       0       0         93     None     None    None   None   \n",
       "1        0       0       0         93     None     None    None   None   \n",
       "2        1       1       1         12        1        3       C     08   \n",
       "\n",
       "  LDMARK_STN MAP_LABEL  ... ETC_PCMTT   FRTP_NM KOFTR_NM DMCLS_NM AGCLS_NM  \\\n",
       "0     J00093         C  ...      None  무립목지/비산림      경작지     None     None   \n",
       "1     J00093         C  ...      None  무립목지/비산림      경작지     None     None   \n",
       "2     J11112   APK-13C  ...      None      침엽수림      잣나무      소경목      3영급   \n",
       "\n",
       "  DNST_NM       HEIGHT_NM  Shape_Leng    Shape_Area  \\\n",
       "0    None            None  194.705027   1847.918451   \n",
       "1    None            None  570.219024  12748.592620   \n",
       "2       밀  임분고 7m 이상 9m미만  248.713445   2053.461999   \n",
       "\n",
       "                                            geometry  \n",
       "0  POLYGON ((940406.869 1943144.09, 940402.484 19...  \n",
       "1  POLYGON ((941247.331 1942388.402, 941247.768 1...  \n",
       "2  POLYGON ((940653.223 1942760.494, 940653.815 1...  \n",
       "\n",
       "[3 rows x 21 columns]"
      ]
     },
     "execution_count": 31,
     "metadata": {},
     "output_type": "execute_result"
    }
   ],
   "source": [
    "gdf.head(3)"
   ]
  },
  {
   "cell_type": "code",
   "execution_count": 32,
   "id": "b096b76a-74b5-4fba-81be-f8dc4c1f24cd",
   "metadata": {},
   "outputs": [
    {
     "name": "stdout",
     "output_type": "stream",
     "text": [
      "<class 'geopandas.geodataframe.GeoDataFrame'>\n",
      "RangeIndex: 7640 entries, 0 to 7639\n",
      "Data columns (total 21 columns):\n",
      " #   Column      Non-Null Count  Dtype   \n",
      "---  ------      --------------  -----   \n",
      " 0   STORUNST    7640 non-null   object  \n",
      " 1   FROR_CD     7640 non-null   object  \n",
      " 2   FRTP_CD     7640 non-null   object  \n",
      " 3   KOFTR_GROU  7640 non-null   object  \n",
      " 4   DMCLS_CD    6374 non-null   object  \n",
      " 5   AGCLS_CD    6374 non-null   object  \n",
      " 6   DNST_CD     6374 non-null   object  \n",
      " 7   HEIGHT      6374 non-null   object  \n",
      " 8   LDMARK_STN  7640 non-null   object  \n",
      " 9   MAP_LABEL   7640 non-null   object  \n",
      " 10  갱신년도        5360 non-null   object  \n",
      " 11  ETC_PCMTT   1068 non-null   object  \n",
      " 12  FRTP_NM     7640 non-null   object  \n",
      " 13  KOFTR_NM    7640 non-null   object  \n",
      " 14  DMCLS_NM    6374 non-null   object  \n",
      " 15  AGCLS_NM    6374 non-null   object  \n",
      " 16  DNST_NM     6374 non-null   object  \n",
      " 17  HEIGHT_NM   6374 non-null   object  \n",
      " 18  Shape_Leng  7640 non-null   float64 \n",
      " 19  Shape_Area  7640 non-null   float64 \n",
      " 20  geometry    7640 non-null   geometry\n",
      "dtypes: float64(2), geometry(1), object(18)\n",
      "memory usage: 1.2+ MB\n"
     ]
    }
   ],
   "source": [
    "gdf.info()"
   ]
  },
  {
   "cell_type": "code",
   "execution_count": 33,
   "id": "41978155-f3a9-488b-bdb2-09fb683eb945",
   "metadata": {},
   "outputs": [
    {
     "data": {
      "text/plain": [
       "(7640, 21)"
      ]
     },
     "execution_count": 33,
     "metadata": {},
     "output_type": "execute_result"
    }
   ],
   "source": [
    "gdf.shape"
   ]
  },
  {
   "cell_type": "code",
   "execution_count": null,
   "id": "80e1aef8-6b1d-4384-b12a-b1db396363e7",
   "metadata": {},
   "outputs": [],
   "source": []
  }
 ],
 "metadata": {
  "kernelspec": {
   "display_name": "Python 3 (ipykernel)",
   "language": "python",
   "name": "python3"
  },
  "language_info": {
   "codemirror_mode": {
    "name": "ipython",
    "version": 3
   },
   "file_extension": ".py",
   "mimetype": "text/x-python",
   "name": "python",
   "nbconvert_exporter": "python",
   "pygments_lexer": "ipython3",
   "version": "3.13.2"
  }
 },
 "nbformat": 4,
 "nbformat_minor": 5
}
