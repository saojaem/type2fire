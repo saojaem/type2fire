{
 "cells": [
  {
   "cell_type": "code",
   "execution_count": null,
   "id": "5bf85127-29f1-48af-8300-e13627a53f5d",
   "metadata": {},
   "outputs": [],
   "source": [
    "import geopandas as gpd"
   ]
  },
  {
   "cell_type": "code",
   "execution_count": null,
   "id": "33025bbe-fe0c-45f2-8711-b9527f031eca",
   "metadata": {},
   "outputs": [],
   "source": [
    "gdf = gpd.read_file(\"../data/raw/임상도_서울특별시/11.shp\")"
   ]
  },
  {
   "cell_type": "code",
   "execution_count": null,
   "id": "49909b63-5675-4952-9850-7252e79f17af",
   "metadata": {},
   "outputs": [],
   "source": [
    "if gdf.crs != \"epsg:5179\":\n",
    "    gdf = gdf.to_crs(epsg=5179)\n",
    "    print(\"Coordinate Reference System Converted\")"
   ]
  },
  {
   "cell_type": "code",
   "execution_count": null,
   "id": "33f33118-3c2c-439c-b5de-77dfcde5f4fa",
   "metadata": {},
   "outputs": [],
   "source": [
    "gdf = gdf.rename(columns={\"FRTP_CD\": \"수종코드\"})"
   ]
  },
  {
   "cell_type": "code",
   "execution_count": null,
   "id": "baf7b709-ed0b-448e-8724-0fd9ced011cf",
   "metadata": {},
   "outputs": [],
   "source": [
    "frtp_map = {'1': '침엽수', '2': '활엽수', '3': '혼효림'}\n",
    "gdf[\"수종\"] = gdf[\"수종코드\"].map(frtp_map).fillna(\"기타\")"
   ]
  },
  {
   "cell_type": "code",
   "execution_count": null,
   "id": "90a4e3f5-69e8-4f96-bf1f-ca661e00f47f",
   "metadata": {},
   "outputs": [],
   "source": [
    "gdf[\"면적\"] = gdf.geometry.area"
   ]
  },
  {
   "cell_type": "code",
   "execution_count": null,
   "id": "5d0d8a08-0195-49a7-b9b3-228eaa104f52",
   "metadata": {},
   "outputs": [],
   "source": [
    "drop_cols = [\n",
    "    'STORUNST', 'FROR_CD', 'KOFTR_GROU', 'KOFTR_NM',\n",
    "    'HEIGHT', 'HEIGHT_NM',\n",
    "    'LDMARK_STN', 'MAP_LABEL',\n",
    "    '갱신년도', 'ETC_PCMTT',\n",
    "    'FRTP_NM', 'DMCLS_CD', 'AGCLS_CD', 'DNST_CD',\n",
    "    'DMCLS_NM', 'AGCLS_NM', 'DNST_NM',\n",
    "    'Shape_Leng', 'Shape_Area'\n",
    "]"
   ]
  },
  {
   "cell_type": "code",
   "execution_count": null,
   "id": "effd6b45-6686-4064-aae5-bcfc13c84ca6",
   "metadata": {},
   "outputs": [],
   "source": [
    "gdf_cleaned = gdf.drop(columns=drop_cols).copy()\n",
    "\n",
    "print(gdf_cleaned.columns.tolist())"
   ]
  },
  {
   "cell_type": "code",
   "execution_count": null,
   "id": "c2bd56e2-b72d-490c-a381-42d1a4d7ca30",
   "metadata": {},
   "outputs": [],
   "source": [
    "gdf_cleaned.head()"
   ]
  },
  {
   "cell_type": "code",
   "execution_count": null,
   "id": "a0a633f3-fc52-4826-9dc0-86ea76918613",
   "metadata": {},
   "outputs": [],
   "source": [
    "gdf_cleaned.to_file(\"../data/processed/서울_임상도_전처리.gpkg\", driver=\"GPKG\")"
   ]
  }
 ],
 "metadata": {
  "kernelspec": {
   "display_name": "Python 3 (ipykernel)",
   "language": "python",
   "name": "python3"
  },
  "language_info": {
   "codemirror_mode": {
    "name": "ipython",
    "version": 3
   },
   "file_extension": ".py",
   "mimetype": "text/x-python",
   "name": "python",
   "nbconvert_exporter": "python",
   "pygments_lexer": "ipython3",
   "version": "3.13.2"
  }
 },
 "nbformat": 4,
 "nbformat_minor": 5
}
