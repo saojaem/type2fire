{
 "cells": [
  {
   "cell_type": "markdown",
   "id": "a90fe5f5-50ca-4eb7-b613-5488b9797037",
   "metadata": {},
   "source": [
    "### 임상도 데이터 전처리"
   ]
  },
  {
   "cell_type": "code",
   "execution_count": 2,
   "id": "5bf85127-29f1-48af-8300-e13627a53f5d",
   "metadata": {},
   "outputs": [],
   "source": [
    "import geopandas as gpd"
   ]
  },
  {
   "cell_type": "code",
   "execution_count": null,
   "id": "33025bbe-fe0c-45f2-8711-b9527f031eca",
   "metadata": {},
   "outputs": [],
   "source": [
    "gdf = gpd.read_file(\"../data/raw/임상도_서울특별시/11.shp\")"
   ]
  },
  {
   "cell_type": "code",
   "execution_count": null,
   "id": "49909b63-5675-4952-9850-7252e79f17af",
   "metadata": {},
   "outputs": [],
   "source": [
    "if gdf.crs != \"epsg:5179\":\n",
    "    gdf = gdf.to_crs(epsg=5179)\n",
    "    print(\"Coordinate Reference System Converted\")"
   ]
  },
  {
   "cell_type": "code",
   "execution_count": null,
   "id": "33f33118-3c2c-439c-b5de-77dfcde5f4fa",
   "metadata": {},
   "outputs": [],
   "source": [
    "gdf = gdf.rename(columns={\"FRTP_CD\": \"수종코드\"})"
   ]
  },
  {
   "cell_type": "code",
   "execution_count": null,
   "id": "baf7b709-ed0b-448e-8724-0fd9ced011cf",
   "metadata": {},
   "outputs": [],
   "source": [
    "frtp_map = {'1': '침엽수', '2': '활엽수', '3': '혼효림'}\n",
    "gdf[\"수종\"] = gdf[\"수종코드\"].map(frtp_map).fillna(\"기타\")"
   ]
  },
  {
   "cell_type": "code",
   "execution_count": null,
   "id": "90a4e3f5-69e8-4f96-bf1f-ca661e00f47f",
   "metadata": {},
   "outputs": [],
   "source": [
    "gdf[\"면적\"] = gdf.geometry.area"
   ]
  },
  {
   "cell_type": "code",
   "execution_count": null,
   "id": "5d0d8a08-0195-49a7-b9b3-228eaa104f52",
   "metadata": {},
   "outputs": [],
   "source": [
    "drop_cols = [\n",
    "    'STORUNST', 'FROR_CD', 'KOFTR_GROU', 'KOFTR_NM',\n",
    "    'HEIGHT', 'HEIGHT_NM',\n",
    "    'LDMARK_STN', 'MAP_LABEL',\n",
    "    '갱신년도', 'ETC_PCMTT',\n",
    "    'FRTP_NM', 'DMCLS_CD', 'AGCLS_CD', 'DNST_CD',\n",
    "    'DMCLS_NM', 'AGCLS_NM', 'DNST_NM',\n",
    "    'Shape_Leng', 'Shape_Area'\n",
    "]"
   ]
  },
  {
   "cell_type": "code",
   "execution_count": null,
   "id": "effd6b45-6686-4064-aae5-bcfc13c84ca6",
   "metadata": {},
   "outputs": [],
   "source": [
    "gdf_cleaned = gdf.drop(columns=drop_cols).copy()\n",
    "\n",
    "print(gdf_cleaned.columns.tolist())"
   ]
  },
  {
   "cell_type": "code",
   "execution_count": null,
   "id": "c2bd56e2-b72d-490c-a381-42d1a4d7ca30",
   "metadata": {},
   "outputs": [],
   "source": [
    "gdf_cleaned.head()"
   ]
  },
  {
   "cell_type": "code",
   "execution_count": null,
   "id": "a0a633f3-fc52-4826-9dc0-86ea76918613",
   "metadata": {},
   "outputs": [],
   "source": [
    "gdf_cleaned.to_file(\"../data/processed/서울_임상도_전처리.gpkg\", driver=\"GPKG\")"
   ]
  },
  {
   "cell_type": "markdown",
   "id": "b1f68682-4da0-42fa-93b0-fba66e62381b",
   "metadata": {},
   "source": [
    "### 대한민국 행정구역 데이터 전처리"
   ]
  },
  {
   "cell_type": "code",
   "execution_count": 27,
   "id": "9c235ff0-da3c-419c-89b3-91d29b2d509f",
   "metadata": {},
   "outputs": [],
   "source": [
    "gdf = gpd.read_file(\"../data/raw/sig_20230729/sig.shp\", encoding=\"euc-kr\")"
   ]
  },
  {
   "cell_type": "code",
   "execution_count": 28,
   "id": "5e7bfa23-1873-4223-9f39-b92f2026c47e",
   "metadata": {},
   "outputs": [
    {
     "data": {
      "text/html": [
       "<div>\n",
       "<style scoped>\n",
       "    .dataframe tbody tr th:only-of-type {\n",
       "        vertical-align: middle;\n",
       "    }\n",
       "\n",
       "    .dataframe tbody tr th {\n",
       "        vertical-align: top;\n",
       "    }\n",
       "\n",
       "    .dataframe thead th {\n",
       "        text-align: right;\n",
       "    }\n",
       "</style>\n",
       "<table border=\"1\" class=\"dataframe\">\n",
       "  <thead>\n",
       "    <tr style=\"text-align: right;\">\n",
       "      <th></th>\n",
       "      <th>SIG_CD</th>\n",
       "      <th>SIG_ENG_NM</th>\n",
       "      <th>SIG_KOR_NM</th>\n",
       "      <th>geometry</th>\n",
       "    </tr>\n",
       "  </thead>\n",
       "  <tbody>\n",
       "    <tr>\n",
       "      <th>0</th>\n",
       "      <td>11110</td>\n",
       "      <td>Jongno-gu</td>\n",
       "      <td>종로구</td>\n",
       "      <td>POLYGON ((956615.453 1953567.199, 956621.579 1...</td>\n",
       "    </tr>\n",
       "    <tr>\n",
       "      <th>1</th>\n",
       "      <td>11140</td>\n",
       "      <td>Jung-gu</td>\n",
       "      <td>중구</td>\n",
       "      <td>POLYGON ((957890.386 1952616.746, 957909.908 1...</td>\n",
       "    </tr>\n",
       "    <tr>\n",
       "      <th>2</th>\n",
       "      <td>11170</td>\n",
       "      <td>Yongsan-gu</td>\n",
       "      <td>용산구</td>\n",
       "      <td>POLYGON ((953115.761 1950834.084, 953114.206 1...</td>\n",
       "    </tr>\n",
       "    <tr>\n",
       "      <th>3</th>\n",
       "      <td>11200</td>\n",
       "      <td>Seongdong-gu</td>\n",
       "      <td>성동구</td>\n",
       "      <td>POLYGON ((959681.109 1952649.605, 959842.412 1...</td>\n",
       "    </tr>\n",
       "    <tr>\n",
       "      <th>4</th>\n",
       "      <td>11215</td>\n",
       "      <td>Gwangjin-gu</td>\n",
       "      <td>광진구</td>\n",
       "      <td>POLYGON ((964825.058 1952633.25, 964875.565 19...</td>\n",
       "    </tr>\n",
       "    <tr>\n",
       "      <th>...</th>\n",
       "      <td>...</td>\n",
       "      <td>...</td>\n",
       "      <td>...</td>\n",
       "      <td>...</td>\n",
       "    </tr>\n",
       "    <tr>\n",
       "      <th>245</th>\n",
       "      <td>51790</td>\n",
       "      <td>Hwacheon-gun</td>\n",
       "      <td>화천군</td>\n",
       "      <td>POLYGON ((1027779.614 2032000.017, 1027951.841...</td>\n",
       "    </tr>\n",
       "    <tr>\n",
       "      <th>246</th>\n",
       "      <td>51800</td>\n",
       "      <td>Yanggu-gun</td>\n",
       "      <td>양구군</td>\n",
       "      <td>MULTIPOLYGON (((1046391.747 2032451.649, 10463...</td>\n",
       "    </tr>\n",
       "    <tr>\n",
       "      <th>247</th>\n",
       "      <td>51810</td>\n",
       "      <td>Inje-gun</td>\n",
       "      <td>인제군</td>\n",
       "      <td>POLYGON ((1041948.853 1995343.843, 1042054.076...</td>\n",
       "    </tr>\n",
       "    <tr>\n",
       "      <th>248</th>\n",
       "      <td>51820</td>\n",
       "      <td>Goseong-gun</td>\n",
       "      <td>고성군</td>\n",
       "      <td>MULTIPOLYGON (((1091705.056 2034023.203, 10917...</td>\n",
       "    </tr>\n",
       "    <tr>\n",
       "      <th>249</th>\n",
       "      <td>51830</td>\n",
       "      <td>Yangyang-gun</td>\n",
       "      <td>양양군</td>\n",
       "      <td>MULTIPOLYGON (((1102146.292 2010704.587, 11021...</td>\n",
       "    </tr>\n",
       "  </tbody>\n",
       "</table>\n",
       "<p>250 rows × 4 columns</p>\n",
       "</div>"
      ],
      "text/plain": [
       "    SIG_CD    SIG_ENG_NM SIG_KOR_NM  \\\n",
       "0    11110     Jongno-gu        종로구   \n",
       "1    11140       Jung-gu         중구   \n",
       "2    11170    Yongsan-gu        용산구   \n",
       "3    11200  Seongdong-gu        성동구   \n",
       "4    11215   Gwangjin-gu        광진구   \n",
       "..     ...           ...        ...   \n",
       "245  51790  Hwacheon-gun        화천군   \n",
       "246  51800    Yanggu-gun        양구군   \n",
       "247  51810      Inje-gun        인제군   \n",
       "248  51820   Goseong-gun        고성군   \n",
       "249  51830  Yangyang-gun        양양군   \n",
       "\n",
       "                                              geometry  \n",
       "0    POLYGON ((956615.453 1953567.199, 956621.579 1...  \n",
       "1    POLYGON ((957890.386 1952616.746, 957909.908 1...  \n",
       "2    POLYGON ((953115.761 1950834.084, 953114.206 1...  \n",
       "3    POLYGON ((959681.109 1952649.605, 959842.412 1...  \n",
       "4    POLYGON ((964825.058 1952633.25, 964875.565 19...  \n",
       "..                                                 ...  \n",
       "245  POLYGON ((1027779.614 2032000.017, 1027951.841...  \n",
       "246  MULTIPOLYGON (((1046391.747 2032451.649, 10463...  \n",
       "247  POLYGON ((1041948.853 1995343.843, 1042054.076...  \n",
       "248  MULTIPOLYGON (((1091705.056 2034023.203, 10917...  \n",
       "249  MULTIPOLYGON (((1102146.292 2010704.587, 11021...  \n",
       "\n",
       "[250 rows x 4 columns]"
      ]
     },
     "execution_count": 28,
     "metadata": {},
     "output_type": "execute_result"
    }
   ],
   "source": [
    "# 1. 좌표계 설정\n",
    "gdf.set_crs(epsg=5179, inplace=True)"
   ]
  },
  {
   "cell_type": "code",
   "execution_count": 29,
   "id": "392a14a9-5eb6-4d3e-84c3-a799dae5538f",
   "metadata": {},
   "outputs": [],
   "source": [
    "# 필요한 컬럼만 남기기\n",
    "gdf = gdf[[\"SIG_CD\", \"SIG_KOR_NM\", \"geometry\"]].copy()\n",
    "\n",
    "# 컬럼명 변경\n",
    "gdf = gdf.rename(columns={\"SIG_CD\": \"시군구코드\", \"SIG_KOR_NM\": \"시군구명\"})\n",
    "\n",
    "# geometry 유효성 검사\n",
    "gdf = gdf[gdf.is_valid]\n",
    "\n",
    "# 면적 0 제거 (혹시라도 있을 경우)\n",
    "gdf = gdf[gdf.geometry.area > 0]\n",
    "\n",
    "# 면적 컬럼 추가\n",
    "gdf[\"면적\"] = gdf.geometry.area\n",
    "\n",
    "# 시도 코드 추출 (선택)\n",
    "gdf[\"시도코드\"] = gdf[\"시군구코드\"].str[:2]"
   ]
  },
  {
   "cell_type": "code",
   "execution_count": 35,
   "id": "1da60593-4a07-4487-93d8-1e5738b8a7df",
   "metadata": {},
   "outputs": [],
   "source": [
    "sido_map = {\n",
    "    '11': '서울특별시',\n",
    "    '26': '부산광역시',\n",
    "    '27': '대구광역시',\n",
    "    '28': '인천광역시',\n",
    "    '29': '광주광역시',\n",
    "    '30': '대전광역시',\n",
    "    '31': '울산광역시',\n",
    "    '36': '세종특별자치시',\n",
    "    '41': '경기도',\n",
    "    '42': '강원도',\n",
    "    '43': '충청북도',\n",
    "    '44': '충청남도',\n",
    "    '45': '전라북도',\n",
    "    '46': '전라남도',\n",
    "    '47': '경상북도',\n",
    "    '48': '경상남도',\n",
    "    '49': '제주도',\n",
    "    '50': '제주특별자치도',\n",
    "    '51': '기타'\n",
    "}\n",
    "\n",
    "gdf[\"시도명\"] = gdf[\"시도코드\"].map(sido_map)"
   ]
  },
  {
   "cell_type": "code",
   "execution_count": 36,
   "id": "53b127a2-7d55-45db-89e9-a5e13cdb6c1d",
   "metadata": {},
   "outputs": [
    {
     "data": {
      "text/html": [
       "<div>\n",
       "<style scoped>\n",
       "    .dataframe tbody tr th:only-of-type {\n",
       "        vertical-align: middle;\n",
       "    }\n",
       "\n",
       "    .dataframe tbody tr th {\n",
       "        vertical-align: top;\n",
       "    }\n",
       "\n",
       "    .dataframe thead th {\n",
       "        text-align: right;\n",
       "    }\n",
       "</style>\n",
       "<table border=\"1\" class=\"dataframe\">\n",
       "  <thead>\n",
       "    <tr style=\"text-align: right;\">\n",
       "      <th></th>\n",
       "      <th>시군구코드</th>\n",
       "      <th>시군구명</th>\n",
       "      <th>geometry</th>\n",
       "      <th>면적</th>\n",
       "      <th>시도코드</th>\n",
       "      <th>시도명</th>\n",
       "    </tr>\n",
       "  </thead>\n",
       "  <tbody>\n",
       "    <tr>\n",
       "      <th>0</th>\n",
       "      <td>11110</td>\n",
       "      <td>종로구</td>\n",
       "      <td>POLYGON ((956615.453 1953567.199, 956621.579 1...</td>\n",
       "      <td>2.397161e+07</td>\n",
       "      <td>11</td>\n",
       "      <td>서울특별시</td>\n",
       "    </tr>\n",
       "    <tr>\n",
       "      <th>1</th>\n",
       "      <td>11140</td>\n",
       "      <td>중구</td>\n",
       "      <td>POLYGON ((957890.386 1952616.746, 957909.908 1...</td>\n",
       "      <td>9.962768e+06</td>\n",
       "      <td>11</td>\n",
       "      <td>서울특별시</td>\n",
       "    </tr>\n",
       "    <tr>\n",
       "      <th>2</th>\n",
       "      <td>11170</td>\n",
       "      <td>용산구</td>\n",
       "      <td>POLYGON ((953115.761 1950834.084, 953114.206 1...</td>\n",
       "      <td>2.189756e+07</td>\n",
       "      <td>11</td>\n",
       "      <td>서울특별시</td>\n",
       "    </tr>\n",
       "    <tr>\n",
       "      <th>3</th>\n",
       "      <td>11200</td>\n",
       "      <td>성동구</td>\n",
       "      <td>POLYGON ((959681.109 1952649.605, 959842.412 1...</td>\n",
       "      <td>1.680078e+07</td>\n",
       "      <td>11</td>\n",
       "      <td>서울특별시</td>\n",
       "    </tr>\n",
       "    <tr>\n",
       "      <th>4</th>\n",
       "      <td>11215</td>\n",
       "      <td>광진구</td>\n",
       "      <td>POLYGON ((964825.058 1952633.25, 964875.565 19...</td>\n",
       "      <td>1.702881e+07</td>\n",
       "      <td>11</td>\n",
       "      <td>서울특별시</td>\n",
       "    </tr>\n",
       "  </tbody>\n",
       "</table>\n",
       "</div>"
      ],
      "text/plain": [
       "   시군구코드 시군구명                                           geometry  \\\n",
       "0  11110  종로구  POLYGON ((956615.453 1953567.199, 956621.579 1...   \n",
       "1  11140   중구  POLYGON ((957890.386 1952616.746, 957909.908 1...   \n",
       "2  11170  용산구  POLYGON ((953115.761 1950834.084, 953114.206 1...   \n",
       "3  11200  성동구  POLYGON ((959681.109 1952649.605, 959842.412 1...   \n",
       "4  11215  광진구  POLYGON ((964825.058 1952633.25, 964875.565 19...   \n",
       "\n",
       "             면적 시도코드    시도명  \n",
       "0  2.397161e+07   11  서울특별시  \n",
       "1  9.962768e+06   11  서울특별시  \n",
       "2  2.189756e+07   11  서울특별시  \n",
       "3  1.680078e+07   11  서울특별시  \n",
       "4  1.702881e+07   11  서울특별시  "
      ]
     },
     "execution_count": 36,
     "metadata": {},
     "output_type": "execute_result"
    }
   ],
   "source": [
    "gdf.head()"
   ]
  },
  {
   "cell_type": "code",
   "execution_count": 37,
   "id": "e039f382-3b51-4285-aecd-1af4ade30fcf",
   "metadata": {},
   "outputs": [],
   "source": [
    "gdf.to_file(\"../data/processed/대한민국_시군구.gpkg\", driver=\"GPKG\")"
   ]
  }
 ],
 "metadata": {
  "kernelspec": {
   "display_name": "Python 3 (ipykernel)",
   "language": "python",
   "name": "python3"
  },
  "language_info": {
   "codemirror_mode": {
    "name": "ipython",
    "version": 3
   },
   "file_extension": ".py",
   "mimetype": "text/x-python",
   "name": "python",
   "nbconvert_exporter": "python",
   "pygments_lexer": "ipython3",
   "version": "3.13.2"
  }
 },
 "nbformat": 4,
 "nbformat_minor": 5
}
